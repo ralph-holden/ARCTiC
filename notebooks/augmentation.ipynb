{
 "cells": [
  {
   "cell_type": "code",
   "execution_count": null,
   "id": "dff1b0a8",
   "metadata": {},
   "outputs": [],
   "source": [
    "from PIL import Image\n",
    "import os\n",
    "from concurrent.futures import ThreadPoolExecutor\n",
    "\n",
    "PATH = '/path/to/folder'  # Change path here\n",
    "\n",
    "def augment_image(file_path, folder_path):\n",
    "    # Open the original image\n",
    "    with Image.open(file_path) as img:\n",
    "        # Get the file name without the extension\n",
    "        base_name = os.path.splitext(os.path.basename(file_path))[0]\n",
    "\n",
    "        # List to store all image transformations (original, rotated, flipped)\n",
    "        images = []\n",
    "\n",
    "        # Original image\n",
    "        images.append((img, \"original\"))\n",
    "\n",
    "        # Rotate the image by 90, 180, and 270 degrees\n",
    "        images.append((img.rotate(90), \"rot90\"))\n",
    "        images.append((img.rotate(180), \"rot180\"))\n",
    "        images.append((img.rotate(270), \"rot270\"))\n",
    "\n",
    "        # Create horizontal flips for all variations (original + rotated)\n",
    "        for image, suffix in images:\n",
    "            # Save the original and its rotated variants\n",
    "            image.save(os.path.join(folder_path, f\"{base_name}_{suffix}.png\"))\n",
    "\n",
    "            # Flip horizontally\n",
    "            flipped = image.transpose(Image.FLIP_LEFT_RIGHT)\n",
    "            flipped.save(os.path.join(folder_path, f\"{base_name}_{suffix}_flipped.png\"))\n",
    "\n",
    "    # Remove the original image after augmentation\n",
    "    os.remove(file_path)\n",
    "\n",
    "def augment_images_in_folder_parallel(folder_path):\n",
    "    # List all PNG files in the folder\n",
    "    file_paths = [os.path.join(folder_path, filename) for filename in os.listdir(folder_path) if filename.endswith(\".png\")]\n",
    "\n",
    "    # Use ThreadPoolExecutor to process images in parallel\n",
    "    with ThreadPoolExecutor() as executor:\n",
    "        # Submit tasks for parallel execution\n",
    "        futures = [executor.submit(augment_image, file_path, folder_path) for file_path in file_paths]\n",
    "        \n",
    "        # Wait for all threads to complete and print status\n",
    "        for future in futures:\n",
    "            future.result()  # Blocks until each future is done\n",
    "\n",
    "if __name__ == \"__main__\":\n",
    "\n",
    "    # Run the augmentation function in parallel\n",
    "    augment_images_in_folder_parallel(PATH)\n"
   ]
  }
 ],
 "metadata": {
  "kernelspec": {
   "display_name": "Python 3",
   "language": "python",
   "name": "python3"
  },
  "language_info": {
   "codemirror_mode": {
    "name": "ipython",
    "version": 3
   },
   "file_extension": ".py",
   "mimetype": "text/x-python",
   "name": "python",
   "nbconvert_exporter": "python",
   "pygments_lexer": "ipython3",
   "version": "3.10.15"
  }
 },
 "nbformat": 4,
 "nbformat_minor": 5
}
